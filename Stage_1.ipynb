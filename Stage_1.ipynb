{
 "cells": [
  {
   "cell_type": "markdown",
   "id": "f40b447c-aa32-425f-8c88-87bc8dd17189",
   "metadata": {},
   "source": [
    "### Code for guess string"
   ]
  },
  {
   "cell_type": "code",
   "execution_count": 1,
   "id": "5ba5c827-cf89-485a-a0f1-b1495579424f",
   "metadata": {},
   "outputs": [
    {
     "name": "stdout",
     "output_type": "stream",
     "text": [
      "Hex representation of 'well, everybody needs a hobby': 77656c6c2c206576657279626f6479206e65656473206120686f626279\n",
      "Result after XOR with '4307585a1e465440014a4e575c564c145b575707441059420d0c53031c1b': 3462343632663136643837353332353435323263373038626563316165\n"
     ]
    }
   ],
   "source": [
    "# Original string and its hexadecimal representation\n",
    "string = \"well, everybody needs a hobby\"\n",
    "hex_string = string.encode(\"utf-8\").hex()\n",
    "print(f\"Hex representation of '{string}': {hex_string}\")\n",
    "\n",
    "# The hexadecimal key to XOR with\n",
    "key_hex = \"4307585a1e465440014a4e575c564c145b575707441059420d0c53031c1b\"\n",
    "\n",
    "# Convert hex strings to byte arrays\n",
    "data_bytes = bytes.fromhex(hex_string)\n",
    "key_bytes = bytes.fromhex(key_hex)\n",
    "\n",
    "# Perform XOR operation\n",
    "xored_bytes = bytes(a ^ b for a, b in zip(data_bytes, key_bytes))\n",
    "\n",
    "# Convert the result to hexadecimal\n",
    "xored_hex = xored_bytes.hex()\n",
    "print(f\"Result after XOR with '{key_hex}': {xored_hex}\")"
   ]
  },
  {
   "cell_type": "markdown",
   "id": "9fba9a70-36fe-40ae-93f4-9ff7239a8641",
   "metadata": {},
   "source": [
    "### Main Code "
   ]
  },
  {
   "cell_type": "code",
   "execution_count": 2,
   "id": "993a08f0-be67-45e4-bdf0-84e61ff373b1",
   "metadata": {},
   "outputs": [
    {
     "name": "stdout",
     "output_type": "stream",
     "text": [
      "56\n",
      "Decrypted Messages:\n",
      "1: i help people with problems.\n",
      "2: well, everybody needs a hobb\n",
      "3: in my business you prepare f\n",
      "4: and youth is no guarantee of\n",
      "5: if you can't trust a swiss b\n",
      "6: hire me or fire me. it's ent\n",
      "7: let's count to three. you ca\n",
      "8: history isn't kind to men wh\n",
      "9: well just goes to show, no o\n",
      "10: i'll do anything for a woman\n",
      "11: there's a saying in england:\n",
      "12: that last hand nearly killed\n",
      "13: so you want me to be half mo\n",
      "14: well, i like to do some thin\n",
      "15: i thought christmas only com\n",
      "16: that's just as bad as listen\n",
      "17: a martini. shaken, not stirr\n",
      "18: flg_aowvgyzfaepdajzwcd57ajq=\n"
     ]
    }
   ],
   "source": [
    "def one_time_pad_decrypt(ciphertext_hex, key_hex):\n",
    "    \"\"\"\n",
    "    Decrypt a ciphertext using a one-time pad.\n",
    "\n",
    "    :param ciphertext_hex: Hexadecimal representation of the ciphertext\n",
    "    :param key_hex: Hexadecimal representation of the key\n",
    "    :return: Decrypted plaintext\n",
    "    \"\"\"\n",
    "    # Convert hex to integers for XOR\n",
    "    ciphertext_int = int(ciphertext_hex, 16)\n",
    "    key_int = int(key_hex, 16)\n",
    "    \n",
    "    # XOR the ciphertext with the key\n",
    "    decrypted_int = ciphertext_int ^ key_int\n",
    "    \n",
    "    # Convert the result back to bytes\n",
    "    decrypted_bytes = decrypted_int.to_bytes((decrypted_int.bit_length() + 7) // 8, byteorder='big')\n",
    "    \n",
    "    # Decode bytes to a string\n",
    "    try:\n",
    "        plaintext = decrypted_bytes.decode(\"utf-8\")\n",
    "    except UnicodeDecodeError:\n",
    "        plaintext = decrypted_bytes.hex()  # If it's not valid UTF-8, return the hex\n",
    "    \n",
    "    return plaintext\n",
    "\n",
    "# Example usage\n",
    "ciphertexts = [ \n",
    "    \"5d425c535e161146015747595612425d415a1213455f5a0e000e424f\",\n",
    "    \"4307585a1e465440014a4e575c564c145b575707441059420d0c53031c1b\",\n",
    "    \"5d0c145b4b465343175159504041154d5a47121345554803170611070a474642585744475855411101534506534f\",\n",
    "    \"550c50164b0944420c185e46135c5a1452475311565e4c0700435e07455c08585f4405465f5f574f\",\n",
    "    \"5d04144f5d13115505561041134647414646120217434f0b16101103045b0d53421e44455e514d461710450b5241440c465f05445b565a5d1841585a\",\n",
    "    \"5c0b4653120b54160b4a17535a40501458571c435e441f1145065f150c47035a49121142164456411d5f444d\",\n",
    "    \"580740114146525911564315475d15405d4057061910410d104352000b15025910460c53421c1902055e161717185c160b5241034d57175956511704154207065d0a48435810161618595e1541501b5702400d4813500b160b47165b511549445f1542594307\",\n",
    "    \"5c0b47425d1448160d4b591247125e5d5b561217581055070b4346090a15165a514b4455595417\",\n",
    "    \"4307585a120c44451018505a564115405a12410b584714420b0c110e0b504145105b0a5653434d131153450a550d564d\",\n",
    "    \"5d45585a12025e1605564e415b5b5b5315545d11175118150a0e500f45420f42581205125d5e5007011e\",\n",
    "    \"400a514457414216051844544a5b5b53155b5c43525e5f0e040d555b45420e53425744465e554b04434311105a0e58061813150c5d4b521f4b15510c475548155145070f5d4459044e52110e144743450457135447404d441551425c45151144520f065e104c105e544c191657134056144b12171f004d17\",\n",
    "    \"400a5542120a504510185f545d56155a5053400f4e10530b090f540545580318\",\n",
    "    \"470d144f5d131141055643155e5715405a1250061758590e03435c0e0b5e4a16585308541658501509515f4d\",\n",
    "    \"4307585a1e46581608515c5013465a14515d1210585d5d42110b580f024646425857445d5a5414070543590a580f56071444001d16\",\n",
    "    \"5d42405e5d13565e1018545d415b464058534143585e541b45005e0c004646595e5101125710400405421f\",\n",
    "    \"400a55421515115c114b431552411556545612024410540b1617540f0c5b0116445d44465e5519030151450f521213145d47090b4d4d175d59475a105356154c\",\n",
    "    \"55425957401258580d1617465b535e515b1e120d58441811110a4313005148\",\n",
    "    \"520e53695309464003414d53525745505458481454540d550409405c\"\n",
    "]\n",
    "\n",
    "def decrypt_all(ciphertexts, key):\n",
    "    \"\"\"\n",
    "    Decrypt all ciphertexts in the list using a one-time pad.\n",
    "\n",
    "    :param ciphertexts: List of hexadecimal ciphertexts\n",
    "    :param key: Hexadecimal key\n",
    "    :return: List of decrypted plaintexts\n",
    "    \"\"\"\n",
    "    # Ensure the key length\n",
    "    key_len = len(key)\n",
    "    print(key_len)\n",
    "    \n",
    "    # Decrypt each ciphertext up to the length of the key\n",
    "    decrypted_messages = [\n",
    "        one_time_pad_decrypt(ciphertext[:key_len], key)\n",
    "        for ciphertext in ciphertexts\n",
    "    ]\n",
    "    \n",
    "    return decrypted_messages\n",
    "    \n",
    "    \n",
    "key = \"34623436326631366438373533323534353232633730386265633161\"  # The key in hex\n",
    "\n",
    "# Call the function\n",
    "decrypted_messages = decrypt_all(ciphertexts, key)\n",
    "\n",
    "# Print the results\n",
    "print(\"Decrypted Messages:\")\n",
    "for i, message in enumerate(decrypted_messages, start=1):\n",
    "    print(f\"{i}: {message}\")"
   ]
  },
  {
   "cell_type": "code",
   "execution_count": null,
   "id": "bc6c0ab3-cfca-4c2b-af20-d359caf3d07f",
   "metadata": {},
   "outputs": [],
   "source": []
  }
 ],
 "metadata": {
  "kernelspec": {
   "display_name": "Python 3 (ipykernel)",
   "language": "python",
   "name": "python3"
  },
  "language_info": {
   "codemirror_mode": {
    "name": "ipython",
    "version": 3
   },
   "file_extension": ".py",
   "mimetype": "text/x-python",
   "name": "python",
   "nbconvert_exporter": "python",
   "pygments_lexer": "ipython3",
   "version": "3.11.7"
  }
 },
 "nbformat": 4,
 "nbformat_minor": 5
}
